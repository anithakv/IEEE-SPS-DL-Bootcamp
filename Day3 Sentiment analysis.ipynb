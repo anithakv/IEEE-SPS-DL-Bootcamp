{
 "cells": [
  {
   "cell_type": "code",
   "execution_count": 6,
   "id": "9c459be7-8107-4aba-88fd-34c3f99ee033",
   "metadata": {},
   "outputs": [],
   "source": [
    "import pandas as pd\n",
    "import numpy as np"
   ]
  },
  {
   "cell_type": "code",
   "execution_count": 7,
   "id": "cf1355f0-3d9d-4e97-99f7-5eecdd2d3260",
   "metadata": {},
   "outputs": [],
   "source": [
    "df= pd.read_csv(\"Twitter_Data.csv\")"
   ]
  },
  {
   "cell_type": "code",
   "execution_count": 8,
   "id": "0187e193-eb9b-4ff8-877c-dfed2ad453b0",
   "metadata": {},
   "outputs": [
    {
     "name": "stdout",
     "output_type": "stream",
     "text": [
      "                                          clean_text  category\n",
      "0  when modi promised “minimum government maximum...      -1.0\n",
      "1  talk all the nonsense and continue all the dra...       0.0\n",
      "2  what did just say vote for modi  welcome bjp t...       1.0\n",
      "3  asking his supporters prefix chowkidar their n...       1.0\n",
      "4  answer who among these the most powerful world...       1.0\n"
     ]
    }
   ],
   "source": [
    "print(df.head())"
   ]
  },
  {
   "cell_type": "code",
   "execution_count": 9,
   "id": "a5b013a7-99e4-4fac-8080-b934076bdd0e",
   "metadata": {},
   "outputs": [
    {
     "name": "stdout",
     "output_type": "stream",
     "text": [
      "<class 'pandas.core.frame.DataFrame'>\n",
      "RangeIndex: 162980 entries, 0 to 162979\n",
      "Data columns (total 2 columns):\n",
      " #   Column      Non-Null Count   Dtype  \n",
      "---  ------      --------------   -----  \n",
      " 0   clean_text  162976 non-null  object \n",
      " 1   category    162973 non-null  float64\n",
      "dtypes: float64(1), object(1)\n",
      "memory usage: 2.5+ MB\n",
      "None\n"
     ]
    }
   ],
   "source": [
    "print(df.info())"
   ]
  },
  {
   "cell_type": "code",
   "execution_count": 10,
   "id": "72daef52-2000-4f1b-91c9-b2762aaf4d14",
   "metadata": {},
   "outputs": [
    {
     "name": "stdout",
     "output_type": "stream",
     "text": [
      "category\n",
      " 1.0    72250\n",
      " 0.0    55213\n",
      "-1.0    35510\n",
      "Name: count, dtype: int64\n"
     ]
    }
   ],
   "source": [
    "print(df[\"category\"].value_counts())"
   ]
  },
  {
   "cell_type": "code",
   "execution_count": 11,
   "id": "66c2df89-17df-4111-9616-6095627b1d71",
   "metadata": {},
   "outputs": [],
   "source": [
    "df['label']=df['category'].apply(lambda x:2 if x==-1.0 else (1 if x==1.0 else 0))"
   ]
  },
  {
   "cell_type": "code",
   "execution_count": 12,
   "id": "3ee4e2d0-2655-4d3f-afcd-fcbe755005a6",
   "metadata": {},
   "outputs": [
    {
     "data": {
      "text/html": [
       "<div>\n",
       "<style scoped>\n",
       "    .dataframe tbody tr th:only-of-type {\n",
       "        vertical-align: middle;\n",
       "    }\n",
       "\n",
       "    .dataframe tbody tr th {\n",
       "        vertical-align: top;\n",
       "    }\n",
       "\n",
       "    .dataframe thead th {\n",
       "        text-align: right;\n",
       "    }\n",
       "</style>\n",
       "<table border=\"1\" class=\"dataframe\">\n",
       "  <thead>\n",
       "    <tr style=\"text-align: right;\">\n",
       "      <th></th>\n",
       "      <th>clean_text</th>\n",
       "      <th>category</th>\n",
       "      <th>label</th>\n",
       "    </tr>\n",
       "  </thead>\n",
       "  <tbody>\n",
       "    <tr>\n",
       "      <th>0</th>\n",
       "      <td>when modi promised “minimum government maximum...</td>\n",
       "      <td>-1.0</td>\n",
       "      <td>2</td>\n",
       "    </tr>\n",
       "    <tr>\n",
       "      <th>1</th>\n",
       "      <td>talk all the nonsense and continue all the dra...</td>\n",
       "      <td>0.0</td>\n",
       "      <td>0</td>\n",
       "    </tr>\n",
       "    <tr>\n",
       "      <th>2</th>\n",
       "      <td>what did just say vote for modi  welcome bjp t...</td>\n",
       "      <td>1.0</td>\n",
       "      <td>1</td>\n",
       "    </tr>\n",
       "    <tr>\n",
       "      <th>3</th>\n",
       "      <td>asking his supporters prefix chowkidar their n...</td>\n",
       "      <td>1.0</td>\n",
       "      <td>1</td>\n",
       "    </tr>\n",
       "    <tr>\n",
       "      <th>4</th>\n",
       "      <td>answer who among these the most powerful world...</td>\n",
       "      <td>1.0</td>\n",
       "      <td>1</td>\n",
       "    </tr>\n",
       "  </tbody>\n",
       "</table>\n",
       "</div>"
      ],
      "text/plain": [
       "                                          clean_text  category  label\n",
       "0  when modi promised “minimum government maximum...      -1.0      2\n",
       "1  talk all the nonsense and continue all the dra...       0.0      0\n",
       "2  what did just say vote for modi  welcome bjp t...       1.0      1\n",
       "3  asking his supporters prefix chowkidar their n...       1.0      1\n",
       "4  answer who among these the most powerful world...       1.0      1"
      ]
     },
     "execution_count": 12,
     "metadata": {},
     "output_type": "execute_result"
    }
   ],
   "source": [
    "df.head()"
   ]
  },
  {
   "cell_type": "code",
   "execution_count": 13,
   "id": "b8d25164-c8e1-4d65-8a00-385b9fddd1e1",
   "metadata": {},
   "outputs": [],
   "source": [
    "df = df.drop(columns=['category'])"
   ]
  },
  {
   "cell_type": "code",
   "execution_count": 14,
   "id": "62575bb6-52d6-4be7-b0f4-983835217796",
   "metadata": {},
   "outputs": [
    {
     "data": {
      "text/html": [
       "<div>\n",
       "<style scoped>\n",
       "    .dataframe tbody tr th:only-of-type {\n",
       "        vertical-align: middle;\n",
       "    }\n",
       "\n",
       "    .dataframe tbody tr th {\n",
       "        vertical-align: top;\n",
       "    }\n",
       "\n",
       "    .dataframe thead th {\n",
       "        text-align: right;\n",
       "    }\n",
       "</style>\n",
       "<table border=\"1\" class=\"dataframe\">\n",
       "  <thead>\n",
       "    <tr style=\"text-align: right;\">\n",
       "      <th></th>\n",
       "      <th>clean_text</th>\n",
       "      <th>label</th>\n",
       "    </tr>\n",
       "  </thead>\n",
       "  <tbody>\n",
       "    <tr>\n",
       "      <th>0</th>\n",
       "      <td>when modi promised “minimum government maximum...</td>\n",
       "      <td>2</td>\n",
       "    </tr>\n",
       "    <tr>\n",
       "      <th>1</th>\n",
       "      <td>talk all the nonsense and continue all the dra...</td>\n",
       "      <td>0</td>\n",
       "    </tr>\n",
       "    <tr>\n",
       "      <th>2</th>\n",
       "      <td>what did just say vote for modi  welcome bjp t...</td>\n",
       "      <td>1</td>\n",
       "    </tr>\n",
       "    <tr>\n",
       "      <th>3</th>\n",
       "      <td>asking his supporters prefix chowkidar their n...</td>\n",
       "      <td>1</td>\n",
       "    </tr>\n",
       "    <tr>\n",
       "      <th>4</th>\n",
       "      <td>answer who among these the most powerful world...</td>\n",
       "      <td>1</td>\n",
       "    </tr>\n",
       "  </tbody>\n",
       "</table>\n",
       "</div>"
      ],
      "text/plain": [
       "                                          clean_text  label\n",
       "0  when modi promised “minimum government maximum...      2\n",
       "1  talk all the nonsense and continue all the dra...      0\n",
       "2  what did just say vote for modi  welcome bjp t...      1\n",
       "3  asking his supporters prefix chowkidar their n...      1\n",
       "4  answer who among these the most powerful world...      1"
      ]
     },
     "execution_count": 14,
     "metadata": {},
     "output_type": "execute_result"
    }
   ],
   "source": [
    "df.head()"
   ]
  },
  {
   "cell_type": "code",
   "execution_count": 15,
   "id": "d21e72f8-5279-41d8-aae2-d8c73c3cf60f",
   "metadata": {},
   "outputs": [
    {
     "data": {
      "text/plain": [
       "clean_text    4\n",
       "label         0\n",
       "dtype: int64"
      ]
     },
     "execution_count": 15,
     "metadata": {},
     "output_type": "execute_result"
    }
   ],
   "source": [
    "df.isnull().sum()"
   ]
  },
  {
   "cell_type": "code",
   "execution_count": 16,
   "id": "fe4de253-41d4-4088-b91c-1eb4aeaacebf",
   "metadata": {},
   "outputs": [],
   "source": [
    "df.dropna(axis=0, inplace=True)"
   ]
  },
  {
   "cell_type": "code",
   "execution_count": 17,
   "id": "917fc92a-f33d-46fd-9435-06a04d1ec57d",
   "metadata": {},
   "outputs": [
    {
     "data": {
      "text/plain": [
       "clean_text    0\n",
       "label         0\n",
       "dtype: int64"
      ]
     },
     "execution_count": 17,
     "metadata": {},
     "output_type": "execute_result"
    }
   ],
   "source": [
    "df.isnull().sum()"
   ]
  },
  {
   "cell_type": "code",
   "execution_count": 18,
   "id": "c7d0a4b1-322c-4228-9c79-62384d531059",
   "metadata": {},
   "outputs": [
    {
     "data": {
      "text/plain": [
       "(162976, 2)"
      ]
     },
     "execution_count": 18,
     "metadata": {},
     "output_type": "execute_result"
    }
   ],
   "source": [
    "df.shape"
   ]
  },
  {
   "cell_type": "code",
   "execution_count": 19,
   "id": "cf0a1393-c380-4b0f-9c1e-9e6724ba985a",
   "metadata": {},
   "outputs": [],
   "source": [
    "data= df[:15000]"
   ]
  },
  {
   "cell_type": "code",
   "execution_count": 20,
   "id": "ff363e76-5fc5-4cf9-9dda-daca97864329",
   "metadata": {},
   "outputs": [
    {
     "name": "stdout",
     "output_type": "stream",
     "text": [
      "label\n",
      "1    6217\n",
      "0    5201\n",
      "2    3582\n",
      "Name: count, dtype: int64\n"
     ]
    }
   ],
   "source": [
    "print(data['label'].value_counts())"
   ]
  },
  {
   "cell_type": "code",
   "execution_count": 21,
   "id": "a8f0f5d5-ca20-4bfb-a327-4db42726177d",
   "metadata": {},
   "outputs": [
    {
     "data": {
      "text/plain": [
       "<Axes: xlabel='label'>"
      ]
     },
     "execution_count": 21,
     "metadata": {},
     "output_type": "execute_result"
    },
    {
     "data": {
      "image/png": "[encoded data removed]",
      "text/plain": [
       "<Figure size 640x480 with 1 Axes>"
      ]
     },
     "metadata": {},
     "output_type": "display_data"
    }
   ],
   "source": [
    "df.groupby('label').count().plot(kind='bar')"
   ]
  },
  {
   "cell_type": "code",
   "execution_count": 22,
   "id": "c78f16e1-fb0b-479c-957f-5a061158d407",
   "metadata": {},
   "outputs": [
    {
     "data": {
      "text/plain": [
       "<Axes: >"
      ]
     },
     "execution_count": 22,
     "metadata": {},
     "output_type": "execute_result"
    },
    {
     "data": {
      "image/png": "[encoded data removed]",
      "text/plain": [
       "<Figure size 640x480 with 1 Axes>"
      ]
     },
     "metadata": {},
     "output_type": "display_data"
    }
   ],
   "source": [
    "tweet=pd.Series([len(tweet.split()) for tweet in data[\"clean_text\"]])\n",
    "tweet.plot(kind=\"box\")"
   ]
  },
  {
   "cell_type": "code",
   "execution_count": 23,
   "id": "724f6d22-b3d9-439f-89b8-35585e9bc8e8",
   "metadata": {},
   "outputs": [
    {
     "name": "stderr",
     "output_type": "stream",
     "text": [
      "[nltk_data] Downloading package wordnet to\n",
      "[nltk_data]     C:\\Users\\anith\\AppData\\Roaming\\nltk_data...\n",
      "[nltk_data]   Package wordnet is already up-to-date!\n"
     ]
    },
    {
     "data": {
      "text/plain": [
       "True"
      ]
     },
     "execution_count": 23,
     "metadata": {},
     "output_type": "execute_result"
    }
   ],
   "source": [
    "import nltk\n",
    "nltk.download(\"wordnet\")"
   ]
  },
  {
   "cell_type": "code",
   "execution_count": 24,
   "id": "8124c383-a767-48e8-bb77-b6289e471f3e",
   "metadata": {},
   "outputs": [],
   "source": [
    "import re\n"
   ]
  },
  {
   "cell_type": "code",
   "execution_count": 25,
   "id": "8e414525-70e3-46ae-a7a3-0080b65252e4",
   "metadata": {},
   "outputs": [],
   "source": [
    "import re\n",
    "from nltk.corpus import stopwords\n",
    "from nltk.tokenize import word_tokenize\n",
    "from nltk.stem import WordNetLemmatizer"
   ]
  },
  {
   "cell_type": "code",
   "execution_count": 26,
   "id": "b7af0d9c-6034-46e1-8f35-b5cc46091345",
   "metadata": {},
   "outputs": [
    {
     "name": "stderr",
     "output_type": "stream",
     "text": [
      "C:\\Users\\anith\\AppData\\Local\\Temp\\ipykernel_10348\\3296909781.py:11: SettingWithCopyWarning: \n",
      "A value is trying to be set on a copy of a slice from a DataFrame.\n",
      "Try using .loc[row_indexer,col_indexer] = value instead\n",
      "\n",
      "See the caveats in the documentation: https://pandas.pydata.org/pandas-docs/stable/user_guide/indexing.html#returning-a-view-versus-a-copy\n",
      "  data['text'] = data['clean_text'].apply(preprocess_text)\n"
     ]
    }
   ],
   "source": [
    "def preprocess_text(text):\n",
    "    text=text.lower()\n",
    "    text= re.sub(r'[^a-zA-Z\\s]', '', text)\n",
    "    tokens=word_tokenize(text)\n",
    "    lemmatizer = WordNetLemmatizer()\n",
    "    lemmatized_tokens = [lemmatizer.lemmatize(word) for word in tokens]\n",
    "    stop_words=set(stopwords.words('english'))\n",
    "    filtered_tokens=[word for word in lemmatized_tokens if word not in stop_words]\n",
    "    processed_text=''.join( filtered_tokens)\n",
    "    return processed_text\n",
    "data['text'] = data['clean_text'].apply(preprocess_text)"
   ]
  },
  {
   "cell_type": "code",
   "execution_count": 27,
   "id": "2ca33a08-b500-421c-a44f-5861790ae3d2",
   "metadata": {},
   "outputs": [],
   "source": [
    "from keras.preprocessing.text import Tokenizer"
   ]
  },
  {
   "cell_type": "code",
   "execution_count": 28,
   "id": "30a7b40e-caff-4b5d-bdde-e7e356b8ad3b",
   "metadata": {},
   "outputs": [],
   "source": [
    "tweets=data[\"text\"].values\n",
    "labels=data[\"label\"].values"
   ]
  },
  {
   "cell_type": "code",
   "execution_count": 29,
   "id": "d73ea8b2-5b57-4a45-a3fb-fcc6d60a379d",
   "metadata": {},
   "outputs": [],
   "source": [
    "tokenizer=Tokenizer()\n",
    "tokenizer.fit_on_texts(tweets)"
   ]
  },
  {
   "cell_type": "code",
   "execution_count": 30,
   "id": "47195468-ad0e-4cf1-a293-b9bfd34d0d2a",
   "metadata": {},
   "outputs": [],
   "source": [
    "sequences = tokenizer.texts_to_sequences(tweets)"
   ]
  },
  {
   "cell_type": "code",
   "execution_count": 31,
   "id": "0b320f49-a9ff-41b8-883b-6829da333e57",
   "metadata": {},
   "outputs": [],
   "source": [
    "word_index=tokenizer.word_index"
   ]
  },
  {
   "cell_type": "code",
   "execution_count": 32,
   "id": "999baaeb-ef05-4a08-958c-2002e4a1468e",
   "metadata": {},
   "outputs": [],
   "source": [
    "from sklearn.model_selection import train_test_split\n",
    "from sklearn.metrics import accuracy_score\n",
    "from nltk.tokenize import word_tokenize"
   ]
  },
  {
   "cell_type": "code",
   "execution_count": 33,
   "id": "9d469777-3726-4ee2-9606-13e1f4d9575c",
   "metadata": {},
   "outputs": [],
   "source": [
    "from sklearn.feature_extraction.text import CountVectorizer"
   ]
  },
  {
   "cell_type": "code",
   "execution_count": 34,
   "id": "c5ec7dce-829b-451b-bdda-284c4b1b59f3",
   "metadata": {},
   "outputs": [],
   "source": [
    "vectorizer=CountVectorizer(ngram_range=(1,3))\n",
    "X_nagrams= vectorizer.fit_transform(tweets)"
   ]
  },
  {
   "cell_type": "code",
   "execution_count": 35,
   "id": "d791a9e3-93c9-426c-af50-22b449d15057",
   "metadata": {},
   "outputs": [],
   "source": [
    "from keras_preprocessing.sequence import pad_sequences"
   ]
  },
  {
   "cell_type": "code",
   "execution_count": 36,
   "id": "0cecb744-e4b4-4fc1-a258-a11cbe73a950",
   "metadata": {},
   "outputs": [],
   "source": [
    "max_sequence_length = max([len(seq) for seq in sequences])\n",
    "X_padded = pad_sequences(sequences, maxlen=max_sequence_length)"
   ]
  },
  {
   "cell_type": "code",
   "execution_count": 39,
   "id": "abb626a4-f360-4d9a-8186-05e47941d69a",
   "metadata": {},
   "outputs": [],
   "source": [
    "num_classes=len(set(labels))\n",
    "y= np.zeros((len(labels),num_classes))"
   ]
  },
  {
   "cell_type": "code",
   "execution_count": 40,
   "id": "5c5589d1-5a88-4667-91a8-947eaeab1a8d",
   "metadata": {},
   "outputs": [],
   "source": [
    "for i, label in enumerate(labels):\n",
    "    y[i, label]=1"
   ]
  },
  {
   "cell_type": "code",
   "execution_count": 42,
   "id": "f2c0cde6-e7ae-4c40-bc21-a911d13715d8",
   "metadata": {},
   "outputs": [],
   "source": [
    "x_train, x_test, y_train, y_test=train_test_split(X_padded,y, test_size=0.2,random_state=42)"
   ]
  },
  {
   "cell_type": "code",
   "execution_count": 46,
   "id": "4932c42b-6cfd-43f5-a34f-22cb70dd6175",
   "metadata": {},
   "outputs": [],
   "source": [
    "from keras.models import Sequential\n",
    "from keras.layers import Embedding, LSTM, Dense, Dropout\n"
   ]
  },
  {
   "cell_type": "code",
   "execution_count": 49,
   "id": "376e8f59-b8c7-4839-8f69-e4e4738cdab9",
   "metadata": {},
   "outputs": [],
   "source": [
    "embedding_size = 100\n",
    "lstm_size = 128\n",
    "model = Sequential()\n",
    "model.add(Embedding(len(word_index)+1, embedding_size, input_length=max_sequence_length))\n",
    "model.add((LSTM(lstm_size, dropout=0.2, recurrent_dropout=0.2)))\n",
    "model.add(Dense(num_classes, activation='softmax'))\n"
   ]
  },
  {
   "cell_type": "code",
   "execution_count": 52,
   "id": "951b61c4-bc08-4e5d-9ff4-56de235ecef2",
   "metadata": {},
   "outputs": [],
   "source": [
    "model.compile(loss=\"categorical_crossentropy\", optimizer=\"adam\", metrics=['accuracy'])"
   ]
  },
  {
   "cell_type": "code",
   "execution_count": 53,
   "id": "7cce3668-9b9a-4a3e-8814-061537f42313",
   "metadata": {},
   "outputs": [
    {
     "name": "stdout",
     "output_type": "stream",
     "text": [
      "Epoch 1/5\n",
      "94/94 [==============================] - 11s 51ms/step - loss: 1.0811 - accuracy: 0.4105 - val_loss: 1.0750 - val_accuracy: 0.4207\n",
      "Epoch 2/5\n",
      "94/94 [==============================] - 3s 35ms/step - loss: 0.9402 - accuracy: 0.5586 - val_loss: 1.0710 - val_accuracy: 0.4150\n",
      "Epoch 3/5\n",
      "94/94 [==============================] - 4s 38ms/step - loss: 0.1388 - accuracy: 0.9984 - val_loss: 1.2006 - val_accuracy: 0.3737\n",
      "Epoch 4/5\n",
      "94/94 [==============================] - 5s 51ms/step - loss: 0.0035 - accuracy: 0.9996 - val_loss: 1.2296 - val_accuracy: 0.3663\n",
      "Epoch 5/5\n",
      "94/94 [==============================] - 4s 40ms/step - loss: 0.0020 - accuracy: 0.9998 - val_loss: 1.2420 - val_accuracy: 0.3643\n"
     ]
    }
   ],
   "source": [
    "\n",
    "history=model.fit(x_train,y_train, batch_size=128, epochs=5, validation_data=(x_test,y_test))"
   ]
  },
  {
   "cell_type": "code",
   "execution_count": 54,
   "id": "18180ba2-ff93-40d2-a909-1c3910cc7121",
   "metadata": {},
   "outputs": [],
   "source": [
    "model.save('model1.h5')"
   ]
  },
  {
   "cell_type": "code",
   "execution_count": 57,
   "id": "227bd353-4bd1-45c4-8b26-80b71b672de0",
   "metadata": {},
   "outputs": [
    {
     "name": "stdout",
     "output_type": "stream",
     "text": [
      "94/94 [==============================] - 1s 5ms/step\n"
     ]
    }
   ],
   "source": [
    "y_pred=model.predict(x_test)\n",
    "y_pred=np.argmax(y_pred, axis=1)\n",
    "y_true=np.argmax(y_test, axis=1)"
   ]
  },
  {
   "cell_type": "code",
   "execution_count": 58,
   "id": "c596f636-f8cb-4cd5-8a08-4f33fec43f44",
   "metadata": {},
   "outputs": [
    {
     "name": "stdout",
     "output_type": "stream",
     "text": [
      "Accuracy: 0.36433333333333334\n"
     ]
    }
   ],
   "source": [
    "accuracy=accuracy_score(y_true,y_pred)\n",
    "print(\"Accuracy:\", accuracy)"
   ]
  },
  {
   "cell_type": "code",
   "execution_count": 59,
   "id": "19f8dcc5-fedf-4723-aa66-e2142e108bcb",
   "metadata": {},
   "outputs": [],
   "source": [
    "import matplotlib.pyplot as plt"
   ]
  },
  {
   "cell_type": "code",
   "execution_count": 62,
   "id": "e39608a2-953f-4f2f-8dee-6a00ef9ea940",
   "metadata": {},
   "outputs": [
    {
     "data": {
      "image/png": "[encoded data removed]",
      "text/plain": [
       "<Figure size 640x480 with 1 Axes>"
      ]
     },
     "metadata": {},
     "output_type": "display_data"
    }
   ],
   "source": [
    "plt.plot(history.history['loss'])\n",
    "plt.plot(history.history['val_loss'])\n",
    "plt.title('Model')\n",
    "plt.xlabel('Epoch')\n",
    "plt.xlabel('Loss')\n",
    "plt.legend(['Train','Validation'], loc='upper right')\n",
    "plt.show()\n",
    "\n"
   ]
  },
  {
   "cell_type": "code",
   "execution_count": null,
   "id": "d9e59b36-9180-43b4-8171-314eead962bb",
   "metadata": {},
   "outputs": [],
   "source": []
  }
 ],
 "metadata": {
  "kernelspec": {
   "display_name": "Python 3 (ipykernel)",
   "language": "python",
   "name": "python3"
  },
  "language_info": {
   "codemirror_mode": {
    "name": "ipython",
    "version": 3
   },
   "file_extension": ".py",
   "mimetype": "text/x-python",
   "name": "python",
   "nbconvert_exporter": "python",
   "pygments_lexer": "ipython3",
   "version": "3.10.13"
  }
 },
 "nbformat": 4,
 "nbformat_minor": 5
}
